{
 "cells": [
  {
   "cell_type": "code",
   "execution_count": 6,
   "metadata": {},
   "outputs": [
    {
     "name": "stdout",
     "output_type": "stream",
     "text": [
      "tensor([[[ 0.5159,  1.0269],\n",
      "         [ 0.2537,  1.6038]],\n",
      "\n",
      "        [[-0.5311, -0.4902],\n",
      "         [ 0.2865, -0.0401]],\n",
      "\n",
      "        [[ 0.6450, -0.7426],\n",
      "         [-0.8941, -1.1706]],\n",
      "\n",
      "        [[-0.1065, -0.0680],\n",
      "         [ 0.4535,  0.8849]],\n",
      "\n",
      "        [[-0.9255,  0.0978],\n",
      "         [ 2.1525, -0.0522]]], grad_fn=<EmbeddingBackward>)\n",
      "Parameter containing:\n",
      "tensor([[ 0.5159,  1.0269],\n",
      "        [ 0.2537,  1.6038],\n",
      "        [-0.5311, -0.4902],\n",
      "        [ 0.2865, -0.0401],\n",
      "        [ 0.6450, -0.7426],\n",
      "        [-0.8941, -1.1706],\n",
      "        [-0.1065, -0.0680],\n",
      "        [ 0.4535,  0.8849],\n",
      "        [-0.9255,  0.0978],\n",
      "        [ 2.1525, -0.0522]], requires_grad=True)\n"
     ]
    }
   ],
   "source": [
    "import torch as t \n",
    "from torch import nn \n",
    "embedding = t.nn.Embedding(10,2)\n",
    "input = t.arange(0,10).view(5,2).long()\n",
    "input = t.autograd.Variable(input)\n",
    "output = embedding(input)\n",
    "print(output)\n",
    "print(embedding.weight)"
   ]
  },
  {
   "cell_type": "code",
   "execution_count": null,
   "metadata": {},
   "outputs": [],
   "source": []
  }
 ],
 "metadata": {
  "kernelspec": {
   "display_name": "Python 3",
   "language": "python",
   "name": "python3"
  },
  "language_info": {
   "codemirror_mode": {
    "name": "ipython",
    "version": 3
   },
   "file_extension": ".py",
   "mimetype": "text/x-python",
   "name": "python",
   "nbconvert_exporter": "python",
   "pygments_lexer": "ipython3",
   "version": "3.6.5"
  }
 },
 "nbformat": 4,
 "nbformat_minor": 2
}
