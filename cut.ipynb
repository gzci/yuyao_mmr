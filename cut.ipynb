{
 "cells": [
  {
   "cell_type": "code",
   "execution_count": 6,
   "metadata": {},
   "outputs": [
    {
     "data": {
      "text/plain": [
       "[pair('人', 'n'),\n",
       " pair('有人', 'r'),\n",
       " pair('言', 'vg'),\n",
       " pair('，', 'x'),\n",
       " pair('兽', 'ng'),\n",
       " pair('有', 'v'),\n",
       " pair('兽', 'ng'),\n",
       " pair('语', 'ng'),\n",
       " pair('。', 'x'),\n",
       " pair('动物', 'n'),\n",
       " pair('是', 'v'),\n",
       " pair('不会', 'v'),\n",
       " pair('听懂', 'v'),\n",
       " pair('人', 'n'),\n",
       " pair('说话', 'v'),\n",
       " pair('的', 'uj')]"
      ]
     },
     "execution_count": 6,
     "metadata": {},
     "output_type": "execute_result"
    }
   ],
   "source": [
    "import jieba.posseg as pseg\n",
    "\n",
    "p = '人有人言，兽有兽语。动物是不会听懂人说话的'\n",
    "q= '老鼠听得懂人话吗'\n",
    "a = '听不懂'\n",
    "al= '听不懂|听得懂|无法确定'\n",
    "\n",
    "passage = list(map(lambda w: w, pseg.cut(p)))\n",
    "passage"
   ]
  },
  {
   "cell_type": "code",
   "execution_count": null,
   "metadata": {},
   "outputs": [],
   "source": []
  }
 ],
 "metadata": {
  "kernelspec": {
   "display_name": "Python 3",
   "language": "python",
   "name": "python3"
  },
  "language_info": {
   "codemirror_mode": {
    "name": "ipython",
    "version": 3
   },
   "file_extension": ".py",
   "mimetype": "text/x-python",
   "name": "python",
   "nbconvert_exporter": "python",
   "pygments_lexer": "ipython3",
   "version": "3.6.5"
  }
 },
 "nbformat": 4,
 "nbformat_minor": 2
}
